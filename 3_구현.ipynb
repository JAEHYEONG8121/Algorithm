{
 "cells": [
  {
   "attachments": {},
   "cell_type": "markdown",
   "metadata": {},
   "source": [
    "## 구현(Implementation)\n",
    "- 구현이란, 머릿속에 있는 알고리즘을 소스코드로 바꾸는 과정이다\n",
    "- 흔히 알고리즘 대회에서 구현 유형의 문제는 무엇일까?\n",
    "    > <font color = blue>풀이를 떠올리는 것은 쉽지만 소스코드로 옮기기 어려운 문제</font>를 지칭한다  \n",
    "\n",
    "- 구현 유형의 예시\n",
    "    > 알고리즘은 간단한데 코드가 지나칠 만큼 길어지는 경우  \n",
    "\n",
    "    > 실수 연산을 다루고, 특정 소수점 자리까지 출력해야 하는 경우  \n",
    "\n",
    "    > 문자열을 특정한 기준에 따라서 끊어 처리해야 하는 경우  \n",
    "\n",
    "    > 적절한 라이브러리를 찾아서 사용해야 하는 경우  \n",
    "    \n",
    "- 구현문제를 잘 풀려면,, 어떻게 보면 '피지컬이 좋아야 한다!'  \n",
    "  많은 경험을 통해 다양한 라이브러리를 적재적소에 사용할 줄 알아야 할 것이다!\n",
    "****"
   ]
  },
  {
   "attachments": {},
   "cell_type": "markdown",
   "metadata": {},
   "source": [
    "***<문제1> 상하좌우***\n",
    "- 여행가 A는 NxN 크기의 정사각형 공간 위에 서 있다. 이 공간은 1x1 크기의 정사각형으로 나누어져 있다. 가장 왼쪽 위 좌표는 (1, 1)이며, 가장 오른쪽 아래 좌표는 (N, N)에 해당한다.\n",
    "\n",
    "- 여행가 A는 '상 하 좌 우'방향으로 이동할 수 있으며, 시작 좌표는 항상 (1, 1)이다. \n",
    "\n",
    "- 여행가 A가 이동할 계획이 적힌 계획서에는 하나의 줄에 띄어쓰기를 기준으로 하여ㅕ L, R, U, D 중 하나의 문자가 반복적으로 적혀 있다.\n",
    "    - L : 왼쪽으로 한 칸 이동\n",
    "    - R : 오른쪽으로 한 칸 이동\n",
    "    - U : 위로 한 칸 이동\n",
    "    - D : 아래로 한 칸 이동</br></br>\n",
    "\n",
    "- 이때 여행가 A가 NxN 크기의 정사각형 공간을 벗어나는 움직임은 무시된다.\n",
    "\n",
    "**입력 조건**\n",
    "- 첫째 줄에 공간의 크기를 나타내는 N이 주어진다. (1 <= N <= 100)\n",
    "- 둘째 줄에 여행가 A가 이동할 계획서 내용이 주어진다. (1 <= 이동 횟수 <= 100)\n",
    "\n",
    "**출력 조건**\n",
    "- 첫째 줄에 여행가 A가 최종적으로 도착할 지점의 좌표를 (X, Y)를 공백으로 구분하여 출력한다."
   ]
  },
  {
   "cell_type": "code",
   "execution_count": 7,
   "metadata": {},
   "outputs": [
    {
     "name": "stdout",
     "output_type": "stream",
     "text": [
      "3 4\n"
     ]
    }
   ],
   "source": [
    "n = int(input())\n",
    "x, y = 1, 1\n",
    "plans = input().split()\n",
    "\n",
    "# L, R, U, D에 따른 이동 방향\n",
    "dx = [0, 0, -1, 1]\n",
    "dy = [-1, 1, 0, 0]\n",
    "move_types = ['L', 'R', 'U', 'D']\n",
    "\n",
    "for plan in plans :\n",
    "    for i in range(len(move_types)) :\n",
    "        if plan == move_types[i] :\n",
    "            nx = x + dx[i]\n",
    "            ny = y + dy[i]\n",
    "    \n",
    "    if nx < 1 or ny < 1 or nx > n or ny > n :\n",
    "        continue\n",
    "    x, y = nx, ny\n",
    "\n",
    "print(x, y)"
   ]
  },
  {
   "attachments": {},
   "cell_type": "markdown",
   "metadata": {},
   "source": [
    "- dx, dy를 리스트로 만들어서 입력에 따른 좌표의 변화를 나타낸다.\n",
    "- '상하좌우' 4가지 방향만이 존재하므로 move_types의 인덱스와 dx, dy의 인덱스를 맞출 수 있다.\n",
    "- 즉, L이 나오면 인덱스 0 -> dx의 인덱스 0의 값 : 0 / dy의 인덱스 0의 값 : -1\n",
    "- 그러므로 for문을 돌려서 plan변수가 move_types리스트 안의 한 문자가 될 때 x와 y를 문자에 맞게 dx, dy를 통해 연산해준다.\n",
    "- 그리고 그 값을 nx, ny에 저장해둔다.\n",
    "- 그 다음 조건문을 통해 NxN 정사각형의 바깥이 되는 좌표가 나올 경우 x, y에다가 nx, ny값을 업데이트 해주지 않고 continue를 통해 바깥 for문을 다시 돌린다.\n",
    "- 그렇게 해서 마지막에 x, y를 출력하면, 정사각형의 바깥 경우로 가는 루트는 제외시키고 여행가 A가 있을 마지막 위치가 출력이 된다.\n",
    "***"
   ]
  },
  {
   "attachments": {},
   "cell_type": "markdown",
   "metadata": {},
   "source": [
    "***<문제2> 시각***\n",
    "- 정수 N이 입력되면 00시 00분 00초부터 N시 59분 59초까지의 모든 시각 중에서 3이 하나라도 포함되는 모든 경우의 수를 구하는 프로그램을 작성하여라.\n",
    "\n",
    "- 예를 들어 1을 입력했을 때 다음은 3이 하나라도 포함되어 있으므로 세어야 하는 시각이다.\n",
    "    - 00시 00분 03초\n",
    "    - 00시 13분 30초</br></br>\n",
    "\n",
    "**입력 조건**\n",
    "- 첫째 줄에 정수 N이 입력된다. (0 <= N <= 23)\n",
    "\n",
    "**출력 조건**\n",
    "- 00시 00분 00초부터 N시 59분 59초까지의 모든 시각 중에서 3이 하나라도 포함되는 모든 경우의 수를 출력한다."
   ]
  },
  {
   "cell_type": "code",
   "execution_count": 19,
   "metadata": {},
   "outputs": [
    {
     "name": "stdout",
     "output_type": "stream",
     "text": [
      "11475\n"
     ]
    }
   ],
   "source": [
    "# 내 풀이\n",
    "n = int(input())\n",
    "cnt1, cnt2= 0, 0\n",
    "for i in range(n) :\n",
    "    if str(i).count('3') != 0 :\n",
    "        cnt1 += 1\n",
    "for j in range(60) :\n",
    "    if str(j).count('3') != 0 :\n",
    "        cnt2 += 1\n",
    "\n",
    "print((n + 1 - cnt1) * (cnt2*60*2 - cnt2**2) + cnt1 * 60**2)\n",
    "\n",
    "    "
   ]
  },
  {
   "attachments": {},
   "cell_type": "markdown",
   "metadata": {},
   "source": [
    "- cnt1에는 입력된 n에 의해서 00시 부터 0n시 사이에 나올 수 있는 3의 수를 count해서 저장하였다.\n",
    "- ex) n = 5 -> 00 01 02 03 04 05이므로 cnt1 = 1이 된다.\n",
    "- 어차피 분, 초에서는 00~59까지 3이 나올 수 있는 경우는 같으므로 3이 나오는 경우를 count해서 cnt2에 저장하였다.\n",
    "- 3이있는 경우를 count할 때는 0부터 59까지 for문을 돌리면서 i를 str로 변형하고 그 문자열 내에 '3'이 존재하는지 count()메서드를 이용하여 .count('3')의 값이 0이 아니라면 cnt1에 1을 증가시켰다.\n",
    "- 이제 모든 경우의 수를 계산할 때를 생각해보자. 경우를 2가지로 나눌 수 있다. \n",
    "- '시' 부분에 3이 있는 경우와 없는 경우이다.\n",
    "- 3이 없는 경우는 '(n + 1) - cnt1'으로 나타낼 수 있고, 이제 분, 초에서 3이 있는 경우는 A와 B의 교집합의 수를 구하는 방법과 같다\n",
    "- '시' 부분에 3이 있는 경우는 cnt1이고 이때는 어차피 '시' 부분에 3이 있으므로 뒤에 분, 초는 어떤 숫자가 와도 되므로 60의 제곱을 곱해주면 된다!"
   ]
  },
  {
   "cell_type": "code",
   "execution_count": 21,
   "metadata": {},
   "outputs": [
    {
     "name": "stdout",
     "output_type": "stream",
     "text": [
      "11475\n"
     ]
    }
   ],
   "source": [
    "# 교재 풀이\n",
    "h = int(input())\n",
    "cnt = 0\n",
    "\n",
    "for i in range(h + 1) :\n",
    "    for j in range(60) :\n",
    "        for k in range(60) :\n",
    "            if '3' in str(i) + str(j) + str(k) :\n",
    "                cnt += 1\n",
    "\n",
    "print(cnt)"
   ]
  },
  {
   "attachments": {},
   "cell_type": "markdown",
   "metadata": {},
   "source": [
    "- 내 풀이보다 훨씬 효율적이다...\n",
    "- 이 문제는 <font color = red>가능한 모든 시각의 경우를 하나씩 모두 세서 풀 수 있는 문제</font>이다.\n",
    "- 하루는 86,400초이므로 모든 경우의 수가 86,400가지가 되기 때문이다!\n",
    "- 이러한 유형은 '완전 탐색(Brute Forcing)' 문제 유형이라 부른다.\n",
    "- 결국 3중 포문을 돌리고, 가장 안쪽에서 i, j, k를 모두 str로 변경한 문자열을 모두 더하여 그 문자열 안에 '3'문자가 존재할 때 cnt를 1 증가시켜서 3이 포함된 전체 경우의 수를 count한 것이다!\n",
    "***"
   ]
  },
  {
   "attachments": {},
   "cell_type": "markdown",
   "metadata": {},
   "source": [
    "***<문제3> 왕실의 나이트***\n",
    "- 행복 왕국의 왕실 정원은 체스판과 같은 8x8 좌표 평면이다. 왕실 정원의 특정한 한 칸에 나이트가 서 있다.\n",
    "\n",
    "- 나이트는 말을 타고 있기 때문에 이동할 때는 L자 형태로만 이동할 수 있으며 정원 밖으로는 나갈 수 없다.\n",
    "\n",
    "- 나이트는 특정 위치에서 다음과 같은 2가지 경우로 이동할 수 있다.\n",
    "    - 수평으로 두 칸 이동한 뒤에 수직으로 한 칸 이동하기\n",
    "    - 수직으로 두 칸 이동한 뒤에 수평으로 한 칸 이동하기\n",
    "\n",
    "- 이처럼 8x8 좌표 평면상에서 나이트의 위치가 주어졌을 때 나이트가 이동할 수 있는 경우의 수를 출력하는 프로그램을 작성하여라.\n",
    "\n",
    "- 왕실의 정원에서 행 위치를 표현할 때는 1부터 8로 표현하며, 열 위치를 표현할 때는 a부터 h로 표현한다.</br></br>\n",
    "\n",
    "**입력 조건**\n",
    "- 첫째 줄에 8x8 좌표 평면상에서 현재 나이트가 위치한 곳의 좌표를 나타내는 두 문자로 구성된 문자열이 입력된다. 입력 문자는 a1처럼 열과 행으로 이루어진다.\n",
    "\n",
    "**출력 조건**\n",
    "- 첫째 줄에 나이트가 이동할 수 있는 경우의 수를 출력하여라."
   ]
  },
  {
   "cell_type": "code",
   "execution_count": 42,
   "metadata": {},
   "outputs": [
    {
     "name": "stdout",
     "output_type": "stream",
     "text": [
      "6\n"
     ]
    }
   ],
   "source": [
    "# 내 풀이\n",
    "s = input()\n",
    "dx = [2, 2, -2, -2, 1, 1, -1, -1]\n",
    "dy = [1, -1, 1, -1, 2, -2, 2, -2]\n",
    "cnt = 0\n",
    "x = ord(s[0]) - 96\n",
    "y = int(s[1])\n",
    "\n",
    "for i in range(len(dx)) :\n",
    "    nx = x + dx[i]\n",
    "    ny = y + dy[i]\n",
    "    if nx < 1 or ny < 1 or nx > 8 or ny > 8 :\n",
    "        continue\n",
    "    else :\n",
    "        cnt += 1\n",
    "        \n",
    "print(cnt)"
   ]
  },
  {
   "attachments": {},
   "cell_type": "markdown",
   "metadata": {},
   "source": [
    "- <문제1> : 상하좌우와 같은 풀이 방식을 사용했다.\n",
    "- 갈 수 있는 모든 경우를 dx와 dy의 리스트에 저장해두었다.\n",
    "- 현재 위치를 입력받아서 정수로 변환해주고, for문을 돌리면서 nx와 ny값을 구해서 좌표 평면 위에 있다면 cnt += 1, 좌표 평면 밖이라면 continue를 사용하였다."
   ]
  },
  {
   "cell_type": "code",
   "execution_count": 40,
   "metadata": {},
   "outputs": [
    {
     "name": "stdout",
     "output_type": "stream",
     "text": [
      "6\n"
     ]
    }
   ],
   "source": [
    "# 교재 풀이\n",
    "input_data = input()\n",
    "row = int(input_data[1])\n",
    "column = int(ord(input_data[0])) - int(ord('a')) + 1\n",
    "\n",
    "steps = [(-2, -1), (-1, -2), (1, -2), (2, -1), (2, 1), (1, 2), (-1, 2), (-2, 1)]\n",
    "\n",
    "cnt = 0\n",
    "for step in steps :\n",
    "    next_row = row + step[0]\n",
    "    next_column = column + step[1]\n",
    "    \n",
    "    if next_row >= 1 and next_row <= 8 and next_column >= 1 and next_column <= 8:\n",
    "        cnt += 1\n",
    "        \n",
    "print(cnt)"
   ]
  },
  {
   "attachments": {},
   "cell_type": "markdown",
   "metadata": {},
   "source": [
    "- 교재 풀이에서는 이동할 수 있는 경우를 stpes리스트에 튜플형태로 묶어서 저장하였다.\n",
    "- for문 안의 if문에서 and로 표현하면 그 조건을 만족할 때만 count해주면 된다.\n",
    "***"
   ]
  },
  {
   "attachments": {},
   "cell_type": "markdown",
   "metadata": {},
   "source": [
    "***<문제4> 문자열 재정렬***\n",
    "- 알파벳 대문자와 숫자(0~9)로만 구성된 문자열이 입력으로 주어진다. 이 때 모든 알파벳을 오름차순으로 정렬하여 이어서 출력한 뒤에, 그 뒤에 모든 숫자를 더한 값을 이어서 출력한다.\n",
    "\n",
    "- ex) K1KA5CB7 -> ABCKK13을 출력\n",
    "\n",
    "**입력 조건**\n",
    "- 첫째 줄에 하나의 문자열 S가 주어진다. (1 <= S의 길이 <= 10000)\n",
    "\n",
    "**출력 조건**\n",
    "- 첫째 줄에 문제에서 요구하는 답을 출력한다."
   ]
  },
  {
   "cell_type": "code",
   "execution_count": 56,
   "metadata": {},
   "outputs": [
    {
     "name": "stdout",
     "output_type": "stream",
     "text": [
      "ADDIJJJKKLSS20\n"
     ]
    }
   ],
   "source": [
    "# 내 풀이\n",
    "s = input()\n",
    "l = []\n",
    "st = ''\n",
    "cnt = 0\n",
    "\n",
    "for i in range(len(s)) :\n",
    "    l.append(s[i])\n",
    "l.sort()\n",
    "\n",
    "for j in l :\n",
    "    if ord(j) >= 65 :\n",
    "        st += j\n",
    "    elif ord(j) < 65 :\n",
    "       cnt += int(j)\n",
    "       \n",
    "print(st + str(cnt))       \n",
    "\n"
   ]
  },
  {
   "attachments": {},
   "cell_type": "markdown",
   "metadata": {},
   "source": [
    "- 문자열을 입력받고 그 문자열 길이만큼 for문을 돌려서 리스트 l에 문자열의 문자 한 개씩 저장하였다.\n",
    "- 그리고 나서 리스트 l을 정렬하면 리스트안에 '숫자가 담긴 문자 - 알파벳 문자'순서로 정렬된다.\n",
    "- 정렬된 리스트 l을 for문을 통해서 ord값을 이용하여 숫자와 알파벳을 구분해준다.\n",
    "- 만약 ord값이 대문자 A가 65이므로 65이상이면 알파벳으로 구분되어 빈 문자열 st에다가 더해준다\n",
    "- 리스트는 정렬되어있으므로 알파벳이 정렬된 순서로 더해져 정렬된 문자열이 되는 것이다.\n",
    "- ord값이 65미만이면 숫자가 담긴 문자이므로 int로 형변환하여 cnt에다가 더해준다\n",
    "- 마지막에 출력할 때는 문자열 형태로 출력해야하므로 st와 str(cnt)를 더해주어 출력하면된다!"
   ]
  },
  {
   "cell_type": "code",
   "execution_count": 58,
   "metadata": {},
   "outputs": [
    {
     "name": "stdout",
     "output_type": "stream",
     "text": [
      "ADFFL3\n"
     ]
    }
   ],
   "source": [
    "# 교재 풀이\n",
    "data = input()\n",
    "result = []\n",
    "value = 0\n",
    "\n",
    "# 문자를 하나씩 확인하며\n",
    "for x in data :\n",
    "    if x.isalpha() :\n",
    "        result.append(x)\n",
    "    else :\n",
    "        value += int(x)\n",
    "\n",
    "# 알파벳 오름차순 정렬\n",
    "result.sort()\n",
    "\n",
    "# 숫자가 하나라도 존재하는 경우 가장 뒤에 삽입\n",
    "if value != 0 :\n",
    "    result.append(str(value))\n",
    "\n",
    "# 리스트를 문자열로 변환하여 출력\n",
    "print(''.join(result))"
   ]
  },
  {
   "attachments": {},
   "cell_type": "markdown",
   "metadata": {},
   "source": [
    "- .isalpha()함수를 이용하여 알파벳과 숫자를 구분하였다.\n",
    "- 알파벳이면 리스트에 저장해주고, 숫자문자이면 int로 형변환하여 value값에 더해준다.\n",
    "- result리스트에는 알파벳만이 저장되어있으므로 정렬해준다\n",
    "- 그 후에 append()로 값을 대입하면 리스트의 맨 뒤부터 대입하므로 value값을 str로 형변환하여 result리스트에 넣어준다.\n",
    "- 마지막 결과인 문자열 출력을 위해 ''.join()에 리스트를 넣어서 리스트에 있는 요소 하나하나를 합쳐서 하나의 문자열로 바꾸어 출력했다.\n",
    "    - cf) .join()함수는 매개변수로 들어온 리스트에 있는 요소 하나하나를 합쳐서 하나의 문자열로 바꾸어 반환하는 함수이다!\n",
    "    - '구분자'.join(리스트) : 리스트의 값과 값 사이에 '구분자'에 들어온 구분자를 넣어서 하나의 문자열로 합쳐준다!"
   ]
  }
 ],
 "metadata": {
  "kernelspec": {
   "display_name": "Python 3",
   "language": "python",
   "name": "python3"
  },
  "language_info": {
   "codemirror_mode": {
    "name": "ipython",
    "version": 3
   },
   "file_extension": ".py",
   "mimetype": "text/x-python",
   "name": "python",
   "nbconvert_exporter": "python",
   "pygments_lexer": "ipython3",
   "version": "3.10.5"
  },
  "orig_nbformat": 4,
  "vscode": {
   "interpreter": {
    "hash": "f2516cc4817bcce27beb828e8c33a14615bd23ef9ce6d8697265ad2aebde7478"
   }
  }
 },
 "nbformat": 4,
 "nbformat_minor": 2
}

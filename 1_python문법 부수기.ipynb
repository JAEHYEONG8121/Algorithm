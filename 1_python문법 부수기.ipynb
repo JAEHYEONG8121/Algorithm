{
 "cells": [
  {
   "attachments": {},
   "cell_type": "markdown",
   "metadata": {},
   "source": [
    "## 실수\n",
    "\n",
    " - 10진수 체계에서는 0.3과 0.6을 더한 값이 0.9로 정확히 떨어진다\n",
    " - But, 2진수 체계인 컴퓨터에서는 최대한 0.9와 가깝게 표현하지만, 미세한 오차가 발생한다\n",
    " - 밑의 실행결과를 살펴보자"
   ]
  },
  {
   "cell_type": "code",
   "execution_count": null,
   "metadata": {},
   "outputs": [
    {
     "name": "stdout",
     "output_type": "stream",
     "text": [
      "0.8999999999999999\n",
      "False\n"
     ]
    }
   ],
   "source": [
    "a = 0.3 + 0.6\n",
    "print(a)\n",
    "\n",
    "if a == 0.9:\n",
    "    print(True)\n",
    "else :\n",
    "    print(False)"
   ]
  },
  {
   "attachments": {},
   "cell_type": "markdown",
   "metadata": {},
   "source": [
    "- 위와 같은 문제를 어떻게 해결할 것인가?\n",
    "- round()함수를 이용하여 반올림을 통해 우리가 원하는 값을 얻을 수 있다"
   ]
  },
  {
   "cell_type": "code",
   "execution_count": null,
   "metadata": {},
   "outputs": [
    {
     "name": "stdout",
     "output_type": "stream",
     "text": [
      "0.9\n",
      "True\n"
     ]
    }
   ],
   "source": [
    "a = 0.3 + 0.6\n",
    "print(round(a, 4))\n",
    "\n",
    "if round(a, 4) == 0.9 :\n",
    "    print(True)\n",
    "else :\n",
    "    print(False)"
   ]
  },
  {
   "attachments": {},
   "cell_type": "markdown",
   "metadata": {},
   "source": [
    "- 실수 지수형 표현 : e\n",
    "- 10억 = '1e9'로 표현\n",
    "- 수의 범위가 10억 미만이라면, 무한(INF)값으로 1e9를 사용할 수 있다"
   ]
  },
  {
   "cell_type": "code",
   "execution_count": null,
   "metadata": {},
   "outputs": [
    {
     "name": "stdout",
     "output_type": "stream",
     "text": [
      "1000000000.0\n",
      "75.25\n"
     ]
    }
   ],
   "source": [
    "a = 1e9\n",
    "print(a)\n",
    "\n",
    "a = 7525e-2\n",
    "print(a)"
   ]
  },
  {
   "attachments": {},
   "cell_type": "markdown",
   "metadata": {},
   "source": [
    "***\n",
    "# 리스트 자료형\n",
    "- 여러 개의 데이터를 연속적으로 담아 처리하기 위해 사용하는 자료형\n",
    "- C나 Java에서의 Array의 기능, C++에서의 STL vector의 기능적으로 유사\n"
   ]
  },
  {
   "cell_type": "code",
   "execution_count": null,
   "metadata": {},
   "outputs": [
    {
     "name": "stdout",
     "output_type": "stream",
     "text": [
      "[1, 2, 3, 4, 5, 6, 7, 8, 9]\n",
      "4\n",
      "[0, 0, 0, 0, 0, 0, 0, 0, 0, 0]\n"
     ]
    }
   ],
   "source": [
    "a = [1, 2, 3, 4, 5, 6, 7, 8, 9]\n",
    "print(a)\n",
    "\n",
    "# 네 번째 원소 출력\n",
    "print(a[3]) \n",
    "  \n",
    "# 크기가 N이고, 모든 값이 0인 1차원 리스트 초기화\n",
    "n = 10\n",
    "a = [0] * n\n",
    "print(a)"
   ]
  },
  {
   "attachments": {},
   "cell_type": "markdown",
   "metadata": {},
   "source": [
    "***리스트의 인덱싱 & 슬라이싱***\n",
    "- 인덱스 값을 입력하여 리스트의 특정 원소에 접근하는 것을 '인덱싱( Indexing)'이라고 한다\n",
    "- 0부터 시작,, 맨 뒤는 -1부터 시작  \n",
    "  \n",
    "- 연속적인 위치를 갖는 원소들을 가져와야 할 때 '슬라이싱(Slicing)'이용\n",
    "\n"
   ]
  },
  {
   "cell_type": "code",
   "execution_count": null,
   "metadata": {},
   "outputs": [
    {
     "name": "stdout",
     "output_type": "stream",
     "text": [
      "1\n",
      "[2, 3, 4]\n"
     ]
    }
   ],
   "source": [
    "a = [1, 2, 3, 4, 5, 6, 7, 8, 9]\n",
    "print(a[0])\n",
    "\n",
    "# 두 번째 원소부터 네 번째 원소까지\n",
    "print(a[1:4])"
   ]
  },
  {
   "attachments": {},
   "cell_type": "markdown",
   "metadata": {},
   "source": [
    "***리스트 컴프리헨션***\n",
    "- 리스트를 초기화하는 방법 중 하나이다\n",
    "    - 대괄호 안에 '조건문과 반복문을 적용'하여 리스트를 초기화 할 수 있다"
   ]
  },
  {
   "cell_type": "code",
   "execution_count": null,
   "metadata": {},
   "outputs": [
    {
     "name": "stdout",
     "output_type": "stream",
     "text": [
      "[0, 1, 2, 3, 4, 5, 6, 7, 8, 9]\n",
      "[0, 2, 4, 6, 8]\n",
      "[1, 3, 5, 7, 9, 11, 13, 15, 17, 19]\n",
      "[1, 4, 9, 16, 25, 36, 49, 64, 81]\n"
     ]
    }
   ],
   "source": [
    "# 0부터 9까지의 수를 포함하는 리스트\n",
    "list = [i for i in range(10)]\n",
    "print(list)\n",
    "\n",
    "# 0부터 9까지 짝수만을 포함하는 리스트\n",
    "list = [i for i in range(0, 10, 2)]\n",
    "print(list)\n",
    "\n",
    "# 0부터 19까지 수 중에서 홀수만 포함하는 리스트\n",
    "list = [i for i in range(20) if i % 2 == 1]\n",
    "print(list)\n",
    "\n",
    "# 1부터 9까지의 수들의 제곱 값을 포함하는 리스트\n",
    "list = [i * i for i in range(1, 10)]\n",
    "print(list)"
   ]
  },
  {
   "attachments": {},
   "cell_type": "markdown",
   "metadata": {},
   "source": [
    "- 2차원 리스트를 초기화할 때 효과적으로 사용할 수 있다\n",
    "- ex) N x M 크기의 2차원 리스트를 한 번에 초기화 할 때\n",
    "    - array = [[0] * m for _ in range(n)]"
   ]
  },
  {
   "cell_type": "code",
   "execution_count": null,
   "metadata": {},
   "outputs": [
    {
     "name": "stdout",
     "output_type": "stream",
     "text": [
      "[[0, 0, 0], [0, 0, 0], [0, 0, 0], [0, 0, 0]]\n",
      "[[0, 0, 0], [0, 5, 0], [0, 0, 0], [0, 0, 0]]\n"
     ]
    }
   ],
   "source": [
    "# N x M 크기의 2차원 리스트 초기화\n",
    "n = 4\n",
    "m = 3\n",
    "\n",
    "array = [[0]*m for _ in range(n)]\n",
    "print(array)\n",
    "\n",
    "array[1][1] = 5\n",
    "print(array)"
   ]
  },
  {
   "attachments": {},
   "cell_type": "markdown",
   "metadata": {},
   "source": [
    "***리스트 관련 기타 메서드***  \n",
    "\n",
    "![list](img/list.png)"
   ]
  },
  {
   "cell_type": "code",
   "execution_count": null,
   "metadata": {},
   "outputs": [
    {
     "name": "stdout",
     "output_type": "stream",
     "text": [
      "삽입:  [1, 4, 3, 2]\n",
      "오름차순 정렬:  [1, 2, 3, 4]\n",
      "내림차순 정렬:  [4, 3, 2, 1]\n",
      "원소 뒤집기:  [1, 2, 3, 4]\n",
      "인덱스 2에 3추가:  [1, 2, 3, 3, 4]\n",
      "3의 개수:  2\n",
      "값이 1인 데이터 삭제:  [2, 3, 3, 4]\n"
     ]
    }
   ],
   "source": [
    "a = [1, 4, 3]\n",
    "\n",
    "# 원소 삽입\n",
    "a.append(2)\n",
    "print('삽입: ', a)\n",
    "\n",
    "# 오름차순 정렬\n",
    "a.sort()\n",
    "print('오름차순 정렬: ', a)\n",
    "\n",
    "# 내림차순 정렬\n",
    "a.sort(reverse = True)\n",
    "print('내림차순 정렬: ', a)\n",
    "\n",
    "# 리스트 원소 뒤집기\n",
    "a.reverse()\n",
    "print('원소 뒤집기: ', a)\n",
    "\n",
    "# 특정 인덱스에 데이터 추가\n",
    "a.insert(2, 3)\n",
    "print('인덱스 2에 3추가: ', a)\n",
    "\n",
    "# 특정 값인 데이터 갯수 세기\n",
    "print('3의 개수: ', a.count(3))\n",
    "\n",
    "# 특정 값 데이터 삭제\n",
    "a.remove(1)\n",
    "print('값이 1인 데이터 삭제: ', a)"
   ]
  },
  {
   "attachments": {},
   "cell_type": "markdown",
   "metadata": {},
   "source": [
    "***리스트에서 특정 값을 가지는 원소를 모두 제거하기***"
   ]
  },
  {
   "cell_type": "code",
   "execution_count": null,
   "metadata": {},
   "outputs": [
    {
     "name": "stdout",
     "output_type": "stream",
     "text": [
      "[1, 2, 4]\n"
     ]
    }
   ],
   "source": [
    "a = [1, 2, 3, 4, 5, 5, 5]\n",
    "remove_set = {3, 5}\n",
    "\n",
    "# remove_set에 포함되지 않은 값만을 저장\n",
    "result = [i for i in a if i not in remove_set]\n",
    "print(result)"
   ]
  },
  {
   "attachments": {},
   "cell_type": "markdown",
   "metadata": {},
   "source": [
    "***\n",
    "## 문자열 자료형\n",
    "- 문자열 변수를 초기화할 때는 큰따옴표나 작은 따옴표를 이용한다\n",
    "- 문자열 안에 큰따옴표나 작은따옴표가 포함되어야 하는 경우가 존재한다\n",
    "    - 전체 문자열을 큰따옴표로 구성, 내부적으로 작은따옴표를 포함할 수 있다\n",
    "    - 전체 문자열을 작은따옴표로 구성, 내부적으로 큰따옴표를 포함할 수 있다\n",
    "    - 혹은 백슬래시(\\)를 사용하면, 큰따옴표나 작은따옴표를 원하는 만큼 포함시킬 수 있다"
   ]
  },
  {
   "cell_type": "code",
   "execution_count": null,
   "metadata": {},
   "outputs": [
    {
     "name": "stdout",
     "output_type": "stream",
     "text": [
      "Don't you know \"Python\"?\n"
     ]
    }
   ],
   "source": [
    "data = \"Don't you know \\\"Python\\\"?\"\n",
    "print(data)"
   ]
  },
  {
   "attachments": {},
   "cell_type": "markdown",
   "metadata": {},
   "source": [
    "***문자열 연산***\n",
    "- 문자열 변수에 덧셈(+)을 이용하면 문자열이 더해져서 연결된다\n",
    "- 문자열 변수를 특정한 양의 정수와 곱하는 경우, 문자열이 그 값만큼 여러 번 더해진다\n",
    "- 문자열에 대해서도 인덱싱과 슬라이싱이 가능하다\n",
    "    - 다만, 문자열은 특정 인덱스의 값을 변경할 수는 없다(Immutable)"
   ]
  },
  {
   "cell_type": "code",
   "execution_count": null,
   "metadata": {},
   "outputs": [
    {
     "name": "stdout",
     "output_type": "stream",
     "text": [
      "Hello World\n",
      "stringstringstring\n",
      "CD\n"
     ]
    }
   ],
   "source": [
    "a = \"Hello\"\n",
    "b = \"World\"\n",
    "print(a + \" \" + b)\n",
    "\n",
    "a = \"string\"\n",
    "print(a * 3)\n",
    "\n",
    "a = \"ABCDEF\"\n",
    "print(a[2:4])"
   ]
  },
  {
   "attachments": {},
   "cell_type": "markdown",
   "metadata": {},
   "source": [
    "***\n",
    "## 튜플 자료형\n",
    "- 튜플 자료형은 리스트와 유사하지만 아래와 같은 문법적 차이가 존재한다\n",
    "    - 튜플은 '한 번 선언된 값을 변경할 수 없다'\n",
    "    - 리스트는 대괄호([])를 이용하지만, 튜플은 소괄호(())를 이용한다\n",
    "- 튜플은 리스트에 비해 상대적으로 공간 효율적이다(리스트보다 적은 메모리 사용)"
   ]
  },
  {
   "cell_type": "code",
   "execution_count": null,
   "metadata": {},
   "outputs": [
    {
     "name": "stdout",
     "output_type": "stream",
     "text": [
      "4\n",
      "(2, 3, 4)\n"
     ]
    }
   ],
   "source": [
    "a = (1, 2, 3, 4, 5, 6, 7, 8, 9)\n",
    "\n",
    "print(a[3])\n",
    "print(a[1 : 4])"
   ]
  },
  {
   "attachments": {},
   "cell_type": "markdown",
   "metadata": {},
   "source": [
    "***튜플을 사용하면 좋은 경우***\n",
    "- 서로 다른 성질의 데이터를 묶어서 관리해야 할 때\n",
    "    - 최단 경로 알고리즘에서는 (비용, 노드번호)의 형태로 튜플 자료형을 자주 사용한다\n",
    "- 데이터의 나열을 '해싱(Hasing)의 키 값'으로 사용해야 할 때\n",
    "    - 튜플은 변경이 불가능하므로 리스트와 다르게 키 값으로 사용가능하다\n",
    "- 리스트보다 '메모리를 효율적으로' 사용해야 할 때"
   ]
  },
  {
   "attachments": {},
   "cell_type": "markdown",
   "metadata": {},
   "source": [
    "***\n",
    "## 사전 자료형(Dict)\n",
    "- 사전 자료형은 키(Key)와 값(Value)의 쌍을 데이터로 가지는 자료형이다\n",
    "    - 앞서 다루었던 리스트나 튜플이 값을 순차적으로 저장하는 것과는 대비된다\n",
    "- 사전 자료형은 키와 값의 쌍을 데이터로 가지며, 원하는 '변경 불가능한(Immutable)자료형'을 키로 사용한다\n",
    "- 파이썬의 사전 자료형은 해시 테이블을 이용하므로, \"데이터의 조회 및 수정에 있어서 O(1)의 시간에 처리\"가 가능하다"
   ]
  },
  {
   "cell_type": "code",
   "execution_count": null,
   "metadata": {},
   "outputs": [
    {
     "name": "stdout",
     "output_type": "stream",
     "text": [
      "{'사과': 'Apple', '바나나': 'Banana', '코코넛': 'Coconut'}\n",
      "'사과'를 키로 가지는 데이터가 존재합니다.\n"
     ]
    }
   ],
   "source": [
    "data = dict()\n",
    "data['사과'] = 'Apple'\n",
    "data['바나나'] = 'Banana'\n",
    "data['코코넛'] = 'Coconut'\n",
    "\n",
    "print(data)\n",
    "\n",
    "if '사과' in data :\n",
    "    print(\"'사과'를 키로 가지는 데이터가 존재합니다.\")"
   ]
  },
  {
   "attachments": {},
   "cell_type": "markdown",
   "metadata": {},
   "source": [
    "***사전 자료형 관련 메서드***\n",
    "- 사전 자료형에서는 키와 값을 별도로 뽑아내기 위한 메서드를 지원한다\n",
    "    - 키 데이터만 뽑아서 리스트로 이용할 때는 keys()함수를 이용\n",
    "    - 값 데이터만 뽑아서 리스트로 이용할 때는 values()함수를 이용"
   ]
  },
  {
   "cell_type": "code",
   "execution_count": null,
   "metadata": {},
   "outputs": [
    {
     "name": "stdout",
     "output_type": "stream",
     "text": [
      "dict_keys(['사과', '바나나', '코코넛'])\n",
      "dict_values(['Apple', 'Banana', 'Coconut'])\n",
      "Apple\n",
      "Banana\n",
      "Coconut\n"
     ]
    }
   ],
   "source": [
    "data = dict()\n",
    "data['사과'] = 'Apple'\n",
    "data['바나나'] = 'Banana'\n",
    "data['코코넛'] = 'Coconut'\n",
    "\n",
    "# 키 데이터만 담은 리스트\n",
    "key_list = list(data.keys())\n",
    "print(key_list)\n",
    "\n",
    "# 값 데이터만 담은 리스트\n",
    "value_list = list(data.values())\n",
    "print(value_list)\n",
    "\n",
    "# 각 키에 따른 값을 하나씩 출력\n",
    "for key in key_list :\n",
    "    print(data[key])"
   ]
  },
  {
   "attachments": {},
   "cell_type": "markdown",
   "metadata": {},
   "source": [
    "***\n",
    "## 집합 자료형(Set)\n",
    "- 집합은 다음과 같은 특징이 존재한다\n",
    "    - 중복 허용x\n",
    "    - 순서가 없다\n",
    "- 집합은 리스트 혹은 문자열을 이용하여 초기화할 수 있다\n",
    "    - 이때 set()함수를 이용\n",
    "- 혹은 중괄호({})안에 각 원소를 콤마를 기준으로 구분하여 삽입함으로써 초기화 할 수 있다\n",
    "- 데이터의 조회 및 수정에 있어서 O(1)의 시간에 처리할 수 있다"
   ]
  },
  {
   "cell_type": "code",
   "execution_count": null,
   "metadata": {},
   "outputs": [
    {
     "name": "stdout",
     "output_type": "stream",
     "text": [
      "{1, 2, 3, 4, 5}\n",
      "{1, 2, 3, 4, 5}\n"
     ]
    }
   ],
   "source": [
    "data = set([1, 1, 2, 3, 4, 4, 5])\n",
    "print(data)\n",
    "\n",
    "data = {1, 1, 2, 3, 4, 4, 5}\n",
    "print(data)"
   ]
  },
  {
   "attachments": {},
   "cell_type": "markdown",
   "metadata": {},
   "source": [
    "***집합 자료형의 연산***\n",
    "- 기본적인 집합 연산으로는 합집합, 교집합, 차집합 연산 등이 존재한다\n",
    "    - 합집합 : 집합 A에 속하거나 B에 속하는 원소를 이루어진 집합\n",
    "    - 교집합 : 집합 A에도 속하고 B에도 속하는 원소로 이루어진 집합\n",
    "    - 차집합 : 집합 A의 원소 중에서 B에 속하지 않는 원소들로 이루어진 집합"
   ]
  },
  {
   "cell_type": "code",
   "execution_count": null,
   "metadata": {},
   "outputs": [
    {
     "name": "stdout",
     "output_type": "stream",
     "text": [
      "{1, 2, 3, 4, 5, 6, 7}\n",
      "{3, 4, 5}\n",
      "{1, 2}\n"
     ]
    }
   ],
   "source": [
    "a = set([1, 2, 3, 4, 5])\n",
    "b = set([3, 4, 5, 6, 7])\n",
    "\n",
    "print(a | b)\n",
    "print(a & b)\n",
    "print(a - b)"
   ]
  },
  {
   "attachments": {},
   "cell_type": "markdown",
   "metadata": {},
   "source": [
    "***집합 자료형 관련 함수***"
   ]
  },
  {
   "cell_type": "code",
   "execution_count": null,
   "metadata": {},
   "outputs": [
    {
     "name": "stdout",
     "output_type": "stream",
     "text": [
      "{1, 2, 3}\n",
      "{1, 2, 3, 4}\n",
      "{1, 2, 3, 4, 5, 6}\n",
      "{1, 2, 4, 5, 6}\n"
     ]
    }
   ],
   "source": [
    "data = set([1, 2, 3])\n",
    "print(data)\n",
    "\n",
    "data.add(4)\n",
    "print(data)\n",
    "\n",
    "data.update([5, 6])\n",
    "print(data)\n",
    "\n",
    "data.remove(3)\n",
    "print(data)"
   ]
  },
  {
   "attachments": {},
   "cell_type": "markdown",
   "metadata": {},
   "source": [
    "***사전 자료형과 집합 자료형의 특징***\n",
    "- 리스트나 튜플은 순서가 있기 때문에 인덱싱을 통해 자료형의 값을 얻을 수 있다\n",
    "- 사전 자료형과 집합 자료형은 순서가 없기 때문에 인덱싱으로 값을 얻을 수 없다\n",
    "    - 사전의 키(key)혹은 집합의 원소(element)를 이용해 O(1)의 시간 복잡도로 조회한다"
   ]
  },
  {
   "attachments": {},
   "cell_type": "markdown",
   "metadata": {},
   "source": [
    "***\n",
    "## 기본 입출력\n",
    "- 모든 프로그램은 적절한 (약속된) 입출력 양식을 가지고 있다\n",
    "- 프로그램 동작의 첫 번째 단계는 데이터를 입력 받거나 생성하는 것\n",
    "    - ex) 학생의 성적 데이터가 주어지고, 이를 내림차순으로 정렬한 결과를 출력하는 프로그램\n",
    "\n",
    "***자주 사용되는 표준 입력 방법***\n",
    "- input() : 한 줄의 문자열을 입력받는 함수\n",
    "- map() : 리스트의 모든 원소에 각각 특정한 함수를 적용할 때 사용\n",
    "    - ex) 공백을 기준으로 구분된 데이터를 입력받을 때 -> list(map(int, input().split()))\n",
    "    - ex) 공백을 기준으로 구분된 데이터의 개수가 많지 않다면, 단순히 다음과 같이 사용 -> a, b, c =  map(int, input().split())"
   ]
  },
  {
   "cell_type": "code",
   "execution_count": null,
   "metadata": {},
   "outputs": [
    {
     "name": "stdout",
     "output_type": "stream",
     "text": [
      "[3, 2, 1]\n"
     ]
    }
   ],
   "source": [
    "n = int(input())\n",
    "\n",
    "data = list(map(int, input().split()))\n",
    "\n",
    "data.sort(reverse=True)\n",
    "print(data)\n",
    "\n",
    "a, b, c = map(int, input().split())\n",
    "print(a, b, c)"
   ]
  },
  {
   "attachments": {},
   "cell_type": "markdown",
   "metadata": {},
   "source": [
    "***빠르게 입력 받기***\n",
    "- 사용자로부터 입력을 최대한 빠르게 받아야 하는 경우가 존재한다 : 입력수가 많을 때\n",
    "- 파이썬의 경우 sys라이브러리에 정의되어 있는 sys.stdin.readline()메서드를 이용한다\n",
    "    - 단, 입력 후 엔터가 줄 바꿈 기호로 입력되므로 rstrip()메서드를 함께 사용한다"
   ]
  },
  {
   "cell_type": "code",
   "execution_count": 15,
   "metadata": {},
   "outputs": [],
   "source": [
    "#import sys\n",
    "\n",
    "#data = sys.stdin.readline().rstrip()\n",
    "#print(data)"
   ]
  },
  {
   "attachments": {},
   "cell_type": "markdown",
   "metadata": {},
   "source": [
    "***자주 사용되는 표준 출력 방법***\n",
    "- 파이썬에서 기본 출력은 print()함수를 이용한다\n",
    "    - 각 변수를 콤마를 이용하여 띄어쓰기로 구분하여 출력할 수 있다\n",
    "- print()는 기본적으로 출력 이후에 줄 바꿈을 수행한다\n",
    "    - 줄 바꿈을 원치않는 경우 'end'속성을 이용할 수 있다"
   ]
  },
  {
   "cell_type": "code",
   "execution_count": 1,
   "metadata": {},
   "outputs": [
    {
     "name": "stdout",
     "output_type": "stream",
     "text": [
      "1 2\n",
      "7 8 정답은7입니다.\n"
     ]
    }
   ],
   "source": [
    "a = 1\n",
    "b = 2\n",
    "print(a, b)\n",
    "print(7, end = ' ')\n",
    "print(8, end = ' ')\n",
    "\n",
    "answer = 7\n",
    "print('정답은' + str(answer) + '입니다.')"
   ]
  },
  {
   "attachments": {},
   "cell_type": "markdown",
   "metadata": {},
   "source": [
    "***f-string 예제***\n",
    "- 파이썬 3.6부터 사용가능하며, 문자열 앞에 접두사 'f'를 붙여 사용한다\n",
    "- 중괄호 안에 변수명을 기입하여 간단히 문자열과 정수를 함께 넣을 수 있다"
   ]
  },
  {
   "cell_type": "code",
   "execution_count": 2,
   "metadata": {},
   "outputs": [
    {
     "name": "stdout",
     "output_type": "stream",
     "text": [
      "정답은7입니다.\n"
     ]
    }
   ],
   "source": [
    "answer = 7\n",
    "print(f'정답은{answer}입니다.')"
   ]
  },
  {
   "attachments": {},
   "cell_type": "markdown",
   "metadata": {},
   "source": [
    "***\n",
    "## 조건문\n",
    "- 조건문은 프로그램의 흐름을 제어하는 문법이다\n",
    "- 조건문을 이용해 조건에 따라 프로그램의 로직을 설정할 수 있다"
   ]
  },
  {
   "cell_type": "code",
   "execution_count": 3,
   "metadata": {},
   "outputs": [
    {
     "name": "stdout",
     "output_type": "stream",
     "text": [
      "x >= 10\n",
      "x >= 0\n"
     ]
    }
   ],
   "source": [
    "x = 15\n",
    "\n",
    "if x >= 10 :\n",
    "    print(\"x >= 10\")\n",
    "if x >= 0 :\n",
    "    print(\"x >= 0\")\n",
    "if x >= 30 :\n",
    "    print(\"x >= 30\")"
   ]
  },
  {
   "attachments": {},
   "cell_type": "markdown",
   "metadata": {},
   "source": [
    "***파이썬 조건문 내에서의 부등식***\n",
    "- 다른 프로그래밍 언어와 다르게 파이썬은 조건문 안에서 수학의 부등식을 그대로 사용할 수 있다\n",
    "- x > 0 and x < 20과 0 < x < 20은 같은 결과를 반환한다\n"
   ]
  },
  {
   "attachments": {},
   "cell_type": "markdown",
   "metadata": {},
   "source": [
    "***\n",
    "## 반복문\n",
    "- 특정한 소스코드를 반복적으로 실행하고자 할 때 사용하는 문법이다\n",
    "- 파이썬에서는 while문과 for문이 있는데, 어떤 것을 사용해도 상관 없다\n",
    "    - 다만, 코딩 테스트에서의 실제 사용 예시를 확인해 보면, for문이 더 간결한 경우가 많다\n",
    "\n",
    "***1부터 9까지 모든 정수의 합 구하기 예제(while문)***"
   ]
  },
  {
   "cell_type": "code",
   "execution_count": null,
   "metadata": {},
   "outputs": [],
   "source": [
    "# while문\n",
    "i = 1\n",
    "result = 0\n",
    "\n",
    "while i <= 9 :\n",
    "    result += i\n",
    "    i += 1\n",
    "    \n",
    "print(result)"
   ]
  },
  {
   "attachments": {},
   "cell_type": "markdown",
   "metadata": {},
   "source": [
    "***반복문에서의 무한 루프***\n",
    "- 무한 루프란 끊임없이 반복되는 반복 구문을 의미한다\n",
    "    - 코딩 테스트에서 무한 루프를 구현할 일은 거의 없으니 유의해야 한다\n",
    "    - 반복문을 작성한 뒤에는 항상 반복문을 탈출할 수 있는지 확인해야 한다"
   ]
  },
  {
   "attachments": {},
   "cell_type": "markdown",
   "metadata": {},
   "source": [
    "***반복문 : for문***\n",
    "- for문의 구조는 아래와 같은데, 특정한 변수를 이용하여 'in'뒤에 오는 데이터(리스트, 튜플 등)에 포함되어 있는 원소를 첫 번째 인덱스부터 차례대로 하나씩 방문한다\n",
    "- for 변수 in 리스트 :  \n",
    "    실행할 소스코드"
   ]
  },
  {
   "cell_type": "code",
   "execution_count": null,
   "metadata": {},
   "outputs": [],
   "source": [
    "array = [9, 8, 7, 6, 5]\n",
    "\n",
    "for i in array :\n",
    "    print(i)"
   ]
  },
  {
   "attachments": {},
   "cell_type": "markdown",
   "metadata": {},
   "source": [
    "- for문에서 연속적인 값을 차례대로 순회할 때는 range()를 주로 사용한다\n",
    "    - 이때 range(시작 값, 끝 값 + 1) 형태로 사용된다\n",
    "    - 인자를 하나만 넣으면 자동으로 시작값은 0이 된다"
   ]
  },
  {
   "cell_type": "code",
   "execution_count": null,
   "metadata": {},
   "outputs": [],
   "source": [
    "result = 0\n",
    "\n",
    "for i in range(1, 10) :\n",
    "    result += i\n",
    "    \n",
    "print(result)"
   ]
  },
  {
   "attachments": {},
   "cell_type": "markdown",
   "metadata": {},
   "source": [
    "***파이썬의 continue 키워드***\n",
    "- 반복문에서 남은 코드의 실행을 건너뛰고, 다음 반복을 진행하고자 할 때 continue를 사용한다\n",
    "- 1부터 9까지의 홀수의 합을 구하는 예시를 살펴보자"
   ]
  },
  {
   "cell_type": "code",
   "execution_count": 4,
   "metadata": {},
   "outputs": [
    {
     "name": "stdout",
     "output_type": "stream",
     "text": [
      "25\n"
     ]
    }
   ],
   "source": [
    "result = 0\n",
    "\n",
    "for i in range(1, 10) :\n",
    "    if i % 2 == 0 :\n",
    "        continue\n",
    "    result += i\n",
    "    \n",
    "print(result)"
   ]
  },
  {
   "attachments": {},
   "cell_type": "markdown",
   "metadata": {},
   "source": [
    "***파이썬의 break 키워드***\n",
    "- 반복문을 즉시 탈출하고자 할 떄 break를 사용한다\n",
    "- 1부터 5까지의 정수를 차례대로 출력하고자 할 때 아래와 같이 작성할 수 있다"
   ]
  },
  {
   "cell_type": "code",
   "execution_count": 5,
   "metadata": {},
   "outputs": [
    {
     "name": "stdout",
     "output_type": "stream",
     "text": [
      "현재 i의 값:  1\n",
      "현재 i의 값:  2\n",
      "현재 i의 값:  3\n",
      "현재 i의 값:  4\n",
      "현재 i의 값:  5\n"
     ]
    }
   ],
   "source": [
    "i = 1\n",
    "\n",
    "while True :\n",
    "    print('현재 i의 값: ', i)\n",
    "    if i == 5 :\n",
    "        break\n",
    "    i += 1"
   ]
  },
  {
   "attachments": {},
   "cell_type": "markdown",
   "metadata": {},
   "source": [
    "***for문 예제 3가지***"
   ]
  },
  {
   "cell_type": "code",
   "execution_count": 6,
   "metadata": {},
   "outputs": [
    {
     "name": "stdout",
     "output_type": "stream",
     "text": [
      "1 번 학생은 합격입니다.\n",
      "2 번 학생은 합격입니다.\n",
      "5 번 학생은 합격입니다.\n",
      "1 번 학생은 합격입니다.\n",
      "5 번 학생은 합격입니다.\n",
      "2 x 1 = 2\n",
      "2 x 2 = 4\n",
      "2 x 3 = 6\n",
      "2 x 4 = 8\n",
      "2 x 5 = 10\n",
      "2 x 6 = 12\n",
      "2 x 7 = 14\n",
      "2 x 8 = 16\n",
      "2 x 9 = 18\n",
      "\n",
      "3 x 1 = 3\n",
      "3 x 2 = 6\n",
      "3 x 3 = 9\n",
      "3 x 4 = 12\n",
      "3 x 5 = 15\n",
      "3 x 6 = 18\n",
      "3 x 7 = 21\n",
      "3 x 8 = 24\n",
      "3 x 9 = 27\n",
      "\n",
      "4 x 1 = 4\n",
      "4 x 2 = 8\n",
      "4 x 3 = 12\n",
      "4 x 4 = 16\n",
      "4 x 5 = 20\n",
      "4 x 6 = 24\n",
      "4 x 7 = 28\n",
      "4 x 8 = 32\n",
      "4 x 9 = 36\n",
      "\n",
      "5 x 1 = 5\n",
      "5 x 2 = 10\n",
      "5 x 3 = 15\n",
      "5 x 4 = 20\n",
      "5 x 5 = 25\n",
      "5 x 6 = 30\n",
      "5 x 7 = 35\n",
      "5 x 8 = 40\n",
      "5 x 9 = 45\n",
      "\n",
      "6 x 1 = 6\n",
      "6 x 2 = 12\n",
      "6 x 3 = 18\n",
      "6 x 4 = 24\n",
      "6 x 5 = 30\n",
      "6 x 6 = 36\n",
      "6 x 7 = 42\n",
      "6 x 8 = 48\n",
      "6 x 9 = 54\n",
      "\n",
      "7 x 1 = 7\n",
      "7 x 2 = 14\n",
      "7 x 3 = 21\n",
      "7 x 4 = 28\n",
      "7 x 5 = 35\n",
      "7 x 6 = 42\n",
      "7 x 7 = 49\n",
      "7 x 8 = 56\n",
      "7 x 9 = 63\n",
      "\n",
      "8 x 1 = 8\n",
      "8 x 2 = 16\n",
      "8 x 3 = 24\n",
      "8 x 4 = 32\n",
      "8 x 5 = 40\n",
      "8 x 6 = 48\n",
      "8 x 7 = 56\n",
      "8 x 8 = 64\n",
      "8 x 9 = 72\n",
      "\n",
      "9 x 1 = 9\n",
      "9 x 2 = 18\n",
      "9 x 3 = 27\n",
      "9 x 4 = 36\n",
      "9 x 5 = 45\n",
      "9 x 6 = 54\n",
      "9 x 7 = 63\n",
      "9 x 8 = 72\n",
      "9 x 9 = 81\n",
      "\n"
     ]
    }
   ],
   "source": [
    "scores = [90, 85, 77, 65, 97]\n",
    "cheating_student_list = {2, 4}\n",
    "\n",
    "# 합격 학생 출력\n",
    "for i in range(5) :\n",
    "    if scores[i] >= 80 :\n",
    "        print(i + 1, '번 학생은 합격입니다.')\n",
    "   \n",
    "# 컨닝 학생 제외       \n",
    "for i in range(5) :\n",
    "    if i + 1 in cheating_student_list :\n",
    "        continue\n",
    "    if scores[i] >= 80 :\n",
    "        print(i + 1, '번 학생은 합격입니다.')\n",
    "\n",
    "# 구구단\n",
    "for i in range(2, 10) :\n",
    "    for j in range(1, 10) :\n",
    "        print(i, 'x', j, '=', i * j)\n",
    "    print()"
   ]
  },
  {
   "attachments": {},
   "cell_type": "markdown",
   "metadata": {},
   "source": [
    "***\n",
    "## 함수\n",
    "- 함수란 특정한 작업을 하나의 단위로 묶어 놓은 것을 의미한다\n",
    "- 함수를 사용하면 불필요한 소스코드의 반복을 줄일 수 있다\n",
    "\n",
    "***함수의 종류***\n",
    "- 내장 함수 : 파이썬이 기본적으로 제공하는 함수\n",
    "- 사용자 정의 함수 : 개발자가 직접 정의하여 사용할 수 있는 함수  \n",
    "\n",
    "\n",
    "***함수 정의하기***\n",
    "- 프로그램에는 똑같은 코드가 반복적으로 사용되어야 할 때가 많다\n",
    "- 함수를 사용하면 소스코드의 길이를 줄일 수 있다\n",
    "    - 매개변수 : 함수 내부에서 사용할 변수\n",
    "    - 반환 값 : 함수에서 처리 된 결과를 반환\n",
    "- def 함수명(매개변수) :  \n",
    "        실행할 소스코드  \n",
    "        return 반환 값"
   ]
  },
  {
   "attachments": {},
   "cell_type": "markdown",
   "metadata": {},
   "source": [
    "***함수 예제***"
   ]
  },
  {
   "cell_type": "code",
   "execution_count": null,
   "metadata": {},
   "outputs": [],
   "source": [
    "# 1\n",
    "def add(a, b) :\n",
    "    return a + b\n",
    "\n",
    "print(add(3, 7))\n",
    "\n",
    "# 2\n",
    "def add(a, b) :\n",
    "    print('함수의 결과: ', a + b)\n",
    "\n",
    "add(3, 7)\n",
    "\n",
    "# 3 : 파라미터 지정하기\n",
    "def add(a, b) :\n",
    "    print('함수의 결과: ', a + b)\n",
    "    \n",
    "add(b = 3, a = 7)"
   ]
  },
  {
   "attachments": {},
   "cell_type": "markdown",
   "metadata": {},
   "source": [
    "***\n",
    "## 실전에서 유용한 표준 라이브러리\n"
   ]
  },
  {
   "attachments": {},
   "cell_type": "markdown",
   "metadata": {},
   "source": [
    "- 내장 함수 : 기본 입출력 함수부터 정렬 함수까지 기본적인 함수들을 제공\n",
    "    - 파이썬 프로그램을 작성할 때 없어서는 안 되는 필수적인 기능을 포함하고 있다\n",
    "- itertools : 파이썬에서 반복되는 형태의 데이터를 처리하기 위한 유용한 기능들을 제공한다\n",
    "    - 특히 순열과 조합 라이브러리는 코딩 테스트에서 자주 사용된다 \n",
    "- heapq : 힙(Heap) 자료구조를 제공한다\n",
    "    - 일반적으로 우선순위 큐 기능을 구현하기 위해 사용된다  \n",
    "- bisect : 이진 탐색(Binary Search) 기능을 제공한다\n",
    "- collections : 덱(deque), 카운터(Counter)등의 유용한 자료구조를 포함합니다\n",
    "- math : 필수적인 수학적 기능을 제공한다\n",
    "    - 팩토리얼, 제곱근, 최대공약수(GCD), 삼각함수 관련 함수부터 파이(pi)와 같은 상수를 포함한다"
   ]
  },
  {
   "attachments": {},
   "cell_type": "markdown",
   "metadata": {},
   "source": [
    "***자주 사용되는 내장 함수***"
   ]
  },
  {
   "cell_type": "code",
   "execution_count": 7,
   "metadata": {},
   "outputs": [
    {
     "name": "stdout",
     "output_type": "stream",
     "text": [
      "15\n",
      "2 7\n",
      "56\n"
     ]
    }
   ],
   "source": [
    "# sum()\n",
    "result = sum([1, 2, 3, 4, 5])\n",
    "print(result)\n",
    "\n",
    "# min(), max()\n",
    "min_result = min(7, 3, 5, 2)\n",
    "max_result = max(7, 3, 5, 2)\n",
    "print(min_result, max_result)\n",
    "\n",
    "#eval()\n",
    "result = eval(\"(3+5)*7\")\n",
    "print(result)"
   ]
  },
  {
   "cell_type": "code",
   "execution_count": null,
   "metadata": {},
   "outputs": [],
   "source": [
    "# sorted()\n",
    "result = sorted([9, 1, 8, 5, 4])\n",
    "reverse_result = sorted([9, 1, 8, 5, 4], reverse=True)\n",
    "print(result)\n",
    "print(reverse_result)\n",
    "\n",
    "# sorted() with key : key속성으로 정렬 기준 정립 -> 주로 lambda함수로 정의\n",
    "array = [('홍길동', 35), ('이순신', 75), ('아무개', 50)]\n",
    "result = sorted(array, key = lambda x:x[1], reverse=True)\n",
    "print(result)"
   ]
  },
  {
   "attachments": {},
   "cell_type": "markdown",
   "metadata": {},
   "source": [
    "***순열과 조합***\n",
    "- 모든 경우의 수를 고려해야 할 때 어떤 라이브러리를 효과적으로 사용할 수 있을까?\n",
    "- 순열 : 서로 다른 n개에서 서로 다른 r개를 선택하여 일렬로 나열하는 것\n",
    "    - {'A', 'B', 'C'}에서 3개를 선택하여 나열하는 경우 : 'ABC', 'ACB', 'BAC', 'BCA', 'CAB', 'CBA'\n",
    "- 조합 : 서로 다른 n개에서 서로 다른 r개를 선택하는 것\n",
    "    - {'A', 'B', 'C'}에서 순서를 고려하지 않고 2개를 뽑는 경우 : 'AB', 'AC', 'BC'"
   ]
  },
  {
   "cell_type": "code",
   "execution_count": null,
   "metadata": {},
   "outputs": [],
   "source": [
    "# 순열\n",
    "from itertools import permutations\n",
    "\n",
    "data = ['A', 'B', 'C']\n",
    "\n",
    "result = list(permutations(data, 3)) # 모든 순열 구하기\n",
    "print(result)\n",
    "\n",
    "# 조합\n",
    "from itertools import combinations\n",
    "\n",
    "data = ['A', 'B', 'C']\n",
    "\n",
    "result = list(combinations(data, 2))\n",
    "print(result)\n",
    "\n"
   ]
  },
  {
   "attachments": {},
   "cell_type": "markdown",
   "metadata": {},
   "source": [
    "***중복 순열과 중복 조합***"
   ]
  },
  {
   "cell_type": "code",
   "execution_count": null,
   "metadata": {},
   "outputs": [],
   "source": [
    "# 중복 순열\n",
    "from itertools import product\n",
    "\n",
    "data = ['A', 'B', 'C']\n",
    "\n",
    "result = list(product(data, repeat = 2))\n",
    "print(result)\n",
    "\n",
    "# 중복 조합\n",
    "from itertools import combinations_with_replacement\n",
    "\n",
    "data = ['A', 'B', 'C']\n",
    "\n",
    "result = list(combinations_with_replacement(data, 2))\n",
    "print(result)"
   ]
  },
  {
   "attachments": {},
   "cell_type": "markdown",
   "metadata": {},
   "source": [
    "***Counter***\n",
    "- 파이썬 collections 라이브러리의 Counter는 등장 횟수를 세는 기능을 제공한다\n",
    "- 리스트와 같은 반복 가능한(iterable) 객체가 주어졌을 때 내부의 원소가 몇 번씩 등장했는지 알려준다"
   ]
  },
  {
   "cell_type": "code",
   "execution_count": 8,
   "metadata": {},
   "outputs": [
    {
     "name": "stdout",
     "output_type": "stream",
     "text": [
      "3\n",
      "1\n",
      "{'red': 2, 'blue': 3, 'green': 1}\n"
     ]
    }
   ],
   "source": [
    "from collections import Counter\n",
    "\n",
    "counter = Counter(['red', 'blue', 'red', 'green', 'blue', 'blue'])\n",
    "\n",
    "print(counter['blue'])\n",
    "print(counter['green'])\n",
    "print(dict(counter))"
   ]
  },
  {
   "attachments": {},
   "cell_type": "markdown",
   "metadata": {},
   "source": [
    "***최대 공약수와 최소 공배수***"
   ]
  },
  {
   "cell_type": "code",
   "execution_count": 10,
   "metadata": {},
   "outputs": [
    {
     "name": "stdout",
     "output_type": "stream",
     "text": [
      "7\n",
      "42\n"
     ]
    }
   ],
   "source": [
    "import math\n",
    "def lcm(a, b) :\n",
    "    return a * b // math.gcd(a, b)\n",
    "\n",
    "a = 21\n",
    "b = 14\n",
    "\n",
    "print(math.gcd(21, 14)) # 최대 공약수 계산\n",
    "print(lcm(21, 14)) # 최소 공배수 계산"
   ]
  }
 ],
 "metadata": {
  "kernelspec": {
   "display_name": "Python 3",
   "language": "python",
   "name": "python3"
  },
  "language_info": {
   "codemirror_mode": {
    "name": "ipython",
    "version": 3
   },
   "file_extension": ".py",
   "mimetype": "text/x-python",
   "name": "python",
   "nbconvert_exporter": "python",
   "pygments_lexer": "ipython3",
   "version": "3.10.5 (tags/v3.10.5:f377153, Jun  6 2022, 16:14:13) [MSC v.1929 64 bit (AMD64)]"
  },
  "orig_nbformat": 4,
  "vscode": {
   "interpreter": {
    "hash": "f2516cc4817bcce27beb828e8c33a14615bd23ef9ce6d8697265ad2aebde7478"
   }
  }
 },
 "nbformat": 4,
 "nbformat_minor": 2
}

{
 "cells": [
  {
   "attachments": {},
   "cell_type": "markdown",
   "metadata": {},
   "source": [
    "## 그리디 알고리즘\n",
    "- 그리디 알고리즘은 '현재 상황에서 지금 당장 좋은 것만 고르는 방법'을 의미한다\n",
    "- 일반적인 그리디 알고리즘은 문제를 풀기 위한 최소한의 아이디어를 떠올릴 수 있는 능력을 요구한다\n",
    "- 그리디 해법은 **정당성 분석**이 중요하다\n",
    "    - 단순히 가장 좋아 보이는 것을 반복적으로 선택해도 최적의 해를 구할 수 있는지 검토한다\n"
   ]
  },
  {
   "attachments": {},
   "cell_type": "markdown",
   "metadata": {},
   "source": [
    "- 일반적인 상황에서 그리디 알고리즘은 최적의 해를 보장할 수 없을 때가 많다\n",
    "- But, 코딩 테스트에서의 대부분의 그리디 문제는 '탐욕법으로 얻은 해가 최적의 해가 되는 상황에서, 이를 추론'할 수 있어야 풀리도록 출제 된다!"
   ]
  },
  {
   "attachments": {},
   "cell_type": "markdown",
   "metadata": {},
   "source": [
    "***\n",
    "***<문제> 거스름 돈***\n",
    "- 당신은 음식점의 계산을 도와주는 점원이다. 카운터에는 거스름돈으로 사용할 500, 100, 50, 10원짜리 동전이 무한히 존재한다고 가정하자. 손님에게 거슬러 주어야 할 돈이 N원일 때, 거슬러 주어야 할 동전의 최소 개수를 구하시오. (단, 거슬러 줘야 할 돈 N은 항상 10의 배수이다.)"
   ]
  },
  {
   "attachments": {},
   "cell_type": "markdown",
   "metadata": {},
   "source": [
    "***<문제> 거스름 돈: 문제 해결 아이디어***\n",
    "- 최적의 해를 빠르게 구하기 위해서는 '가장 큰 화폐 단위부터'돈을 거슬러 주면 된다\n",
    "- N원을 거슬러 줘야 할 때, 가장 먼저 500원으로 거슬러 줄 수 있을 만큼 거슬러 준다\n",
    "    - 이후에 100원, 50원, 10원짜리 동전을 차례대로 거슬러 줄 수 잇을 만큼 거슬러 주면 된다\n",
    "- N = 1260일 때를 예시로 살펴보자\n",
    "- 1260 = 500 + 500 + 100 + 100 + 50 + 10\n",
    "    - 이와 같이 가장 큰 화폐 단위부터 돈을 거슬러 주면 된다!"
   ]
  },
  {
   "cell_type": "code",
   "execution_count": 1,
   "metadata": {},
   "outputs": [
    {
     "name": "stdout",
     "output_type": "stream",
     "text": [
      "6\n"
     ]
    }
   ],
   "source": [
    "n = 1260\n",
    "cnt = 0\n",
    "\n",
    "coin_types = [500, 100, 50, 10]\n",
    "\n",
    "for coin in coin_types :\n",
    "    cnt += n // coin\n",
    "    n %= coin\n",
    "\n",
    "print(cnt)"
   ]
  },
  {
   "attachments": {},
   "cell_type": "markdown",
   "metadata": {},
   "source": [
    "***<문제> 거스름 돈: 정당성 분석***\n",
    "- 가장 큰 화폐 단위부터 돈을 거슬러 주는 것이 최적의 해를 보장하는 이유는 무엇일까?\n",
    "    - 가지고 있는 동전 중에서 <font color=green>큰 단위가 항상 작은 단위의 배수이므로 작은 단위의 동전들을 종합해 다른 해가 나올 수 없기 때문</font>이다!\n",
    "- if, 800원을 거슬러 주어야 하는데 화폐 단위가 500, 400, 100원이라면 큰 화폐 단위순으로 거슬러 주는 위의 알고리즘을 통해 최적의 해를 구할 수 없다\n",
    "- 즉, 위와 같은 알고리즘의 정당성은 큰 단위가 작은 단위의 배수이므로 가능한 것이다\n",
    "- 그리디 알고리즘 문제에서는 이처럼 문제 풀이를 위한 최소한의 아이디어를 떠올리고 이것이 정당한지 검토할 수 있어야 한다  \n",
    "\n",
    "***<문제> 거스름 돈: 시간 복잡도 분석***\n",
    "- 화폐의 종류가 K라고 할 때, 소스코드의 시간 복잡도는 O(K)이다\n",
    "- 이 알고리즘의 시간 복잡도는 거슬러줘야 하는 금액과는 무관하며, 동전의 총 종류에만 영향을 받는다\n",
    "\n",
    "***"
   ]
  },
  {
   "attachments": {},
   "cell_type": "markdown",
   "metadata": {},
   "source": [
    "***<문제> 큰 수의 법칙***\n",
    "- 다양한 수로 이루어진 배열이 있을 때 주어진 수들을 M번 더하여 가장 큰 수를 만드는 법칙이다\n",
    "- 단, 배열의 특정한 인덱스(번호)에 해당하는 수가 연속해서 K번을 초과하여 더해질 수 없는 것이 이 법칙의 특징이다  \n",
    "\n",
    "- ex1) lst = [2, 4, 5, 4, 6], M = 8, K = 3 -> 6 + 6 + 6 + 5 + 6 + 6 + 6 + 5 = 46\n",
    "- ex2) lst = [3, 4, 3, 4, 3], M = 7, K = 2 -> 4 + 4 + 4 + 4 + 4 + 4 + 4 = 28\n",
    "- ex2)를 보면 같은 수여도 서로 다른 인덱스를 갖고 있으면 서로 다른 것으로 간주하는 것을 알 수 있다\n"
   ]
  },
  {
   "attachments": {},
   "cell_type": "markdown",
   "metadata": {},
   "source": [
    "**입력조건**\n",
    "- N(2<=N<=1000), M(1<=M<=10000), K(1<=K<=10000)의 자연수가 첫째줄에 주어지며, 각 자연수는 공백으로 구분한다\n",
    "- 둘째 줄에 N개의 자연수가 주어진다. 각 자연수는 공백으로 구분하고, 각각의 자연수는 1이상 10000이하의 수로 주어진다\n",
    "- 입력으로 주어지는 K는 항상 M보다 작거나 같다  \n",
    "\n",
    "\n",
    "**출력조건**\n",
    "- 첫째 줄에 위의 큰 수의 법칙에 따라 더해진 답을 출력한다"
   ]
  },
  {
   "cell_type": "code",
   "execution_count": 10,
   "metadata": {},
   "outputs": [
    {
     "name": "stdout",
     "output_type": "stream",
     "text": [
      "6\n",
      "46\n"
     ]
    }
   ],
   "source": [
    "# 내풀이\n",
    "n, m, k = map(int, input().split())\n",
    "lst = list(map(int, input().split()))\n",
    "max_num = max(lst)\n",
    "\n",
    "if lst.count(max_num) == 1 :\n",
    "    lst.remove(max_num)\n",
    "    new_max_num = max(lst)\n",
    "    result = (m - (m // k)) * max_num + (m % k) * new_max_num\n",
    "else :\n",
    "    result = max_num * m\n",
    "\n",
    "print(result)\n",
    "    "
   ]
  },
  {
   "attachments": {},
   "cell_type": "markdown",
   "metadata": {},
   "source": [
    "- 일단 리스트에 담긴 값 중 최댓값을 찾아야 한다. 그리고, 이 최대값의 빈도수로 접근을 했다.\n",
    "- 최대값이 리스트 안에서 중복된다면 즉, lst.count(max_num)이 1이 아닌 2이상의 값을 가지면 출력값이 최대값을 m번 곱한 값과 같다\n",
    "- 관건은 최대값이 리스트 안에서 중복되지 않는다면, 최대값을 k번 더하고 리스트 안에서 두 번째로 큰 값을 한 번 더해준다음에 다시 최대값을 더해주는 방식으로 계산해야한다\n",
    "- 그러므로, lst.count(max_num)이 1일때는, 두 번째로 큰 값을 찾기 위하여 최대값을 리스트에서 삭제하고 다시 최대값을 저장해주었다\n",
    "- 그 후에 출력값을 계산하였다"
   ]
  },
  {
   "cell_type": "code",
   "execution_count": null,
   "metadata": {},
   "outputs": [],
   "source": [
    "# 교재 풀이\n",
    "n, m, k = map(int, input().split())\n",
    "data = list(map(int, input().split()))\n",
    "\n",
    "data.sort()\n",
    "first = data[n - 1]\n",
    "second = data[n - 2]\n",
    "\n",
    "# 가장 큰 수가 더해지는 횟수 계산\n",
    "count = int(m / (k + 1)) * k\n",
    "count += m % (k + 1)\n",
    "\n",
    "result = 0\n",
    "result += count * first\n",
    "result += (m - count) * second\n",
    "\n",
    "print(result)"
   ]
  },
  {
   "attachments": {},
   "cell_type": "markdown",
   "metadata": {},
   "source": [
    "- 최대값과 두 번째로 큰 수를 먼저 리스트를 정렬한 후에 인덱싱을 통해 찾았다\n",
    "- 교재 풀이는 '반복되는 수열'로 접근하였다\n",
    "- 반복되는 수열이란 최대값이 k번 나온 후에 두 번째로 큰 값이 한 번 나오는 그 세트를 의미한다\n",
    "- 위의 예시 중 '6 6 6 5'를 의미한다\n",
    "- 즉, 위와 같은 수열이 몇 번 반복되는지가 중요한 것이다!\n",
    "- 총 m개의 숫자를 더하는 과정 중에 반복되는 수열이 몇 번 포함되는지를 count변수에 저장하였다\n",
    "- 수열의 길이는 최대값이 k번 더해지고, 그 후에 두 번째로 큰 값이 한 번 더해지므로 'k + 1'이다\n",
    "- 그러므로, count = int(m / (k + 1)) * k가 된다\n",
    "- 그 후에 m을 k + 1로 나눈 나머지까지 더해주면 m개의 숫자 중 최대값이 나열되는 수를 count에 저장한 것이다\n",
    "- 결과적으로 출력값은 count와 최대값 first를 곱한값에 (m - count)에 두 번째로 큰 수를 곱한것을 더한 값이 되는것이다\n",
    "***"
   ]
  },
  {
   "attachments": {},
   "cell_type": "markdown",
   "metadata": {},
   "source": [
    "***<문제2> 숫자 카드 게임***\n",
    "- 여러 개의 숫자 카드 중에서 가장 높은 숫자가 쓰인 카드 한 장을 뽑는 게임이다. 단, 게임의 룰을 지키며 카드를 뽑아야 한다\n",
    "- 1. 숫자가 쓰인 카드들이 N x M 형태로 놓여 있다. N은 행, M은 열의 개수이다\n",
    "- 2. 먼저 뽑고자 하는 카드가 포함되어 있는 행을 선택한다\n",
    "- 3. 그다음 선택된 행에 포함된 카드들 중 가장 낮은 카드를 뽑아야 한다.\n",
    "- 4. 따라서 처음에 카드를 골라낼 행을 선택할 때, 이후에 해당 행에서 가장 숫자가 낮은 카드를 뽑는 것을 고려하여 최종적으로 가장 높은 숫자의 카드를 뽑을 수 있도록 전략을 세워야 한다\n"
   ]
  },
  {
   "attachments": {},
   "cell_type": "markdown",
   "metadata": {},
   "source": [
    "**입력조건**\n",
    "- 첫째 줄에 숫자 카드들이 놓인 행의 개수 N과 열의 개수 M이 공백을 기준으로 하여 각각 자연수로 주어진다.(1 <= N, M <= 100)\n",
    "- 둘째 줄부터 N개의 줄에 걸쳐 각 카드에 적힌 숫자가 주어진다. 각 수자는 1이상 10000이하의 자연수이다  \n",
    "\n",
    "**출력조건**\n",
    "- 첫째 줄에 게임의 룰에 맞게 선택한 카드에 적힌 숫자를 출력한다"
   ]
  },
  {
   "cell_type": "code",
   "execution_count": 13,
   "metadata": {},
   "outputs": [
    {
     "name": "stdout",
     "output_type": "stream",
     "text": [
      "3\n"
     ]
    }
   ],
   "source": [
    "# 내 풀이\n",
    "n, m = map(int, input().split())\n",
    "last_min = 0\n",
    "array = [0] * n\n",
    "\n",
    "for i in range(n) :\n",
    "    lst = list(map(int, input().split()))\n",
    "    array[i] = lst\n",
    "    \n",
    "for i in range(n) :\n",
    "    min_val = min(array[i])\n",
    "    if min_val > last_min :\n",
    "        last_min = min_val\n",
    "        \n",
    "print(last_min)"
   ]
  },
  {
   "attachments": {},
   "cell_type": "markdown",
   "metadata": {},
   "source": [
    "- 일단, 입력받는 카드의 숫자를 2차원 배열(행렬)로 만들어서 저장했다\n",
    "- 각 행별로 for문을 돌려서 각 행에서의 최소값을 뽑고 그 최소값들 중에서 최대값을 뽑아서 출력하였다"
   ]
  },
  {
   "cell_type": "code",
   "execution_count": 14,
   "metadata": {},
   "outputs": [
    {
     "name": "stdout",
     "output_type": "stream",
     "text": [
      "3\n"
     ]
    }
   ],
   "source": [
    "# 교재 풀이\n",
    "n, m = map(int, input().split())\n",
    "\n",
    "result = 0\n",
    "\n",
    "for i in range(n) :\n",
    "    data = list(map(int, input().split()))\n",
    "    min_value = min(data)\n",
    "    result = max(result, min_value)\n",
    "    \n",
    "print(result)\n"
   ]
  },
  {
   "attachments": {},
   "cell_type": "markdown",
   "metadata": {},
   "source": [
    "- 내가 졌다.. 어리석었다\n",
    "- 방법은 비슷하지만, 일단 첫 번째로 2차원 배열로 카드의 숫자를 저장할 필요가 없었다\n",
    "- 어차피 행의 수만큼 m개의 숫자가 들어가므로, for문을 n번 돌리면서 각 행의 숫자를 m개씩 입력한 것을 리스트로 저장했다\n",
    "- 그리고 그 리스트에서의 최소값을 min_value에 저장했다\n",
    "- 나는 if문을 통해서 최소값 중 최대값을 갱신하는 방법을 사용했다\n",
    "- 교재의 풀이에서는 max()함수를 이용하여 result, min_value를 인자로 넣어서 최대값을 갱신하는 방법을 사용했다"
   ]
  },
  {
   "cell_type": "code",
   "execution_count": 17,
   "metadata": {},
   "outputs": [
    {
     "name": "stdout",
     "output_type": "stream",
     "text": [
      "수학점수의 평균은\n",
      "5.5\n"
     ]
    }
   ],
   "source": [
    "#********************************************#\n",
    "def str_average(strp : str,*num:list) -> str:\n",
    "    print (strp + \"의 평균은\" )\n",
    "    print (sum(num)/len (num))\n",
    "str_average(\"수학점수\" , 1,2,3,4,5,6,7,8,9,10)"
   ]
  },
  {
   "attachments": {},
   "cell_type": "markdown",
   "metadata": {},
   "source": [
    "***  \n",
    "\n",
    "***<문제3> 1이 될 때까지***\n",
    "- 어떠한 수 N이 1이 될 때까지 다음의 두 과중 중 하나를 반복적으로 선택하여 수행하려고 한다\n",
    "- 단, 두 번째 연산은 N이 K로 나누어떨어질 때만 선택할 수 있다\n",
    "- 1. N에서 1을 뺀다\n",
    "- 2. N을 K로 나눈다\n",
    "- 예를 들어 N이 17, K가 4라고 가정하자. 이때 1번의 과정을 한 번 수행하면 N = 16이 되고, 이후에 2번 과정을 두 번 수행하면 N = 1이 된다.\n",
    "- 결과적으로 이 경우 전체 과정을 실행한 횟수는 3이된다. 이는 N을 1로 만드는 최소 횟수이다.  \n",
    "\n",
    "**입력 조건**\n",
    "- 첫째 줄에 N(2 <= N <= 100,000)과 K(2 <= K <= 100,000)가 공백으로 구분되며 각각 자연수로 주어진다. 이때 입력으로 주어지는 N은 항상 K보다 크거나 같다.  \n",
    "\n",
    "**출력 조건**\n",
    "- 첫째 줄에 N이 1이 될 때까지 1번 혹은 2번 과정을 수행해야 하는 횟수의 최소값을 출력한다."
   ]
  },
  {
   "cell_type": "code",
   "execution_count": 22,
   "metadata": {},
   "outputs": [
    {
     "name": "stdout",
     "output_type": "stream",
     "text": [
      "3\n"
     ]
    }
   ],
   "source": [
    "# 내 풀이\n",
    "n, k = map(int, input().split())\n",
    "cnt = 0\n",
    "\n",
    "while(n != 1) :\n",
    "    if n % k == 0 :\n",
    "        n //= k\n",
    "        cnt += 1\n",
    "    else :\n",
    "        n -= 1\n",
    "        cnt += 1\n",
    "print(cnt)"
   ]
  },
  {
   "attachments": {},
   "cell_type": "markdown",
   "metadata": {},
   "source": [
    "- while문을 n이 1이 될 때까지 돌리는데, n이 k로 나누어 떨어지면 나누어주고 cnt 1증가, 나누어 떨어지지 않으면 n에서 1을 빼주고 cnt 1 증가\n",
    "- 위와 같은 방법으로 계속 돌리면 결국 n이 1이 되는 상황이 되고 그때 while문을 빠져나가면서 연산 횟수인 cnt가 출력된다"
   ]
  },
  {
   "cell_type": "code",
   "execution_count": 23,
   "metadata": {},
   "outputs": [],
   "source": [
    "# 교재 풀이\n",
    "n, k = map(int, input().split())\n",
    "result = 0\n",
    "\n",
    "while True :\n",
    "    # N이 K로 나누어떨어지는 수가 될 때까지 1씩 빼기\n",
    "    target = (n // k) * k \n",
    "    result += (n - target)\n",
    "    n = target\n",
    "    \n",
    "    # N이 K보다 작을 때(더 이상 나눌 수 없을 때) 반복문 탈출\n",
    "    if n < k :\n",
    "        break\n",
    "    \n",
    "    # K로 나누기\n",
    "    result += 1\n",
    "    n //= k\n",
    "\n",
    "# 마지막으로 남은 수에 대하여 1씩 빼기\n",
    "result += (n - 1)\n",
    "print(result)"
   ]
  },
  {
   "attachments": {},
   "cell_type": "markdown",
   "metadata": {},
   "source": [
    "- 교재 풀이에서는 우선 n을 k로 나누어 떨어지는 수가 되도록 1을 계속 빼주는 과정을 거쳤다\n",
    "- target = (n // k) * k -> 이 코드 한 줄이 기가막힌다\n",
    "- n을 k로 나눈 목에다가 다시 k를 곱해주면 n에서 1을 빼가면서 최초로 k로 나누어떨어지는 수가 되는 셈인 것이다\n",
    "- 그렇게해서 n - target을 해주면 n이 k로 나누어 떨어질때까지 1을 빼준 연산의 횟수를 구할 수 있다\n",
    "- 그러므로 result += n - target으로 연산의 횟수를 저장해주고, n은 이제 k로 나누어떨어지는 수인 target으로 저장해준다\n",
    "- 이제 n은 k로 나누어 떨어지는 수이므로, k로 계속나누어주면서 result += 1해주고, n이 k보다 작아져 더이상 나눌수 없으면 반복문을 빠져나오게 한 것이다\n",
    "- 마지막으로 반복문을 빠져나오고 나서 n이 1이 되야하므로 연산 횟수에 n - 1을 더해주면 n이 1이 될때까지의 총 연산횟수를 출력할 수 있다\n",
    "- 위 코드의 장점은 n과 k가 아주 큰 수여도 우선적으로 n을 k로 나누어버리는 작업을 실행하기 때문에 시간이 기하급수적으로 줄어든다 -> 즉, log시간 복잡도를 통해 빠르게 구할 수 있다는 점이 강점이다!"
   ]
  },
  {
   "cell_type": "code",
   "execution_count": null,
   "metadata": {},
   "outputs": [],
   "source": [
    "### 정수 n이 정수 k로 나누어떨어지는 n가 가장 가까운 정수를 찾는 코드 ###\n",
    "target = (n // k) * k\n",
    "n = target\n",
    "\n",
    "# ex) n = 25, k = 3\n",
    "# (n // k) = 8, k = 3 -> target = 24\n",
    "# 즉, 25와 가장 가까운 수 중에 3으로 나누어 떨어지는 값은 24인 것이다!"
   ]
  },
  {
   "attachments": {},
   "cell_type": "markdown",
   "metadata": {},
   "source": [
    "***"
   ]
  }
 ],
 "metadata": {
  "kernelspec": {
   "display_name": "Python 3",
   "language": "python",
   "name": "python3"
  },
  "language_info": {
   "codemirror_mode": {
    "name": "ipython",
    "version": 3
   },
   "file_extension": ".py",
   "mimetype": "text/x-python",
   "name": "python",
   "nbconvert_exporter": "python",
   "pygments_lexer": "ipython3",
   "version": "3.10.5 (tags/v3.10.5:f377153, Jun  6 2022, 16:14:13) [MSC v.1929 64 bit (AMD64)]"
  },
  "orig_nbformat": 4,
  "vscode": {
   "interpreter": {
    "hash": "f2516cc4817bcce27beb828e8c33a14615bd23ef9ce6d8697265ad2aebde7478"
   }
  }
 },
 "nbformat": 4,
 "nbformat_minor": 2
}
